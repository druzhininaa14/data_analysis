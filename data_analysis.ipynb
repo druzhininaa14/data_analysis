{
  "cells": [
    {
      "cell_type": "markdown",
      "metadata": {
        "id": "mY8ZP64PvIIh"
      },
      "source": [
        "\n",
        "\n",
        "#Доверительные интервалы, проверка гипотез, коэффициенты корреляции\n",
        "###Druzhinina Anzhelika\n",
        "\n"
      ]
    },
    {
      "cell_type": "markdown",
      "metadata": {
        "id": "lN07PwxavIIn"
      },
      "source": [
        "### Информация о данных\n",
        "\n",
        "В рамках этого файла используем данные с результатами опроса преподавателей двух каталонских универсистетов (Открытый университет Каталонии и университет Помпеу Фабра), посвященного использованию Википедии в методических и академических целях.\n",
        "Оригинальное описание на платформе data.world: [ссылка](https://data.world/uci/wiki4he)."
      ]
    },
    {
      "cell_type": "markdown",
      "metadata": {
        "id": "q5DuBNynvIIp"
      },
      "source": [
        "### Загрузка данных \n",
        "\n",
        "Импортируем библиотеку `pandas` с сокращенным названием `pd` (понадобится для работы с данными) и библиотеку `numpy` с сокращенным названием `np` (понадобится для более удобных вычислений):"
      ]
    },
    {
      "cell_type": "code",
      "execution_count": null,
      "metadata": {
        "id": "iH_veMb1vIIq"
      },
      "outputs": [],
      "source": [
        "import numpy as np\n",
        "import pandas as pd"
      ]
    },
    {
      "cell_type": "markdown",
      "metadata": {
        "id": "JCgiwt-QvIIs"
      },
      "source": [
        "Загрузим данные из файла `\"wiki.csv\"` и сохраним их в датафрейм `wiki`, сообщив Python, что в качестве разделителя столбцов используется точка с запятой:"
      ]
    },
    {
      "cell_type": "code",
      "execution_count": null,
      "metadata": {
        "colab": {
          "base_uri": "https://localhost:8080/",
          "height": 1000
        },
        "id": "_YIu8b6lvIIt",
        "outputId": "b8e69428-20b3-40b9-877c-6e0fa92d0c60"
      },
      "outputs": [
        {
          "output_type": "error",
          "ename": "FileNotFoundError",
          "evalue": "ignored",
          "traceback": [
            "\u001b[0;31m---------------------------------------------------------------------------\u001b[0m",
            "\u001b[0;31mFileNotFoundError\u001b[0m                         Traceback (most recent call last)",
            "\u001b[0;32m<ipython-input-2-43b3c90b178b>\u001b[0m in \u001b[0;36m<module>\u001b[0;34m\u001b[0m\n\u001b[0;32m----> 1\u001b[0;31m \u001b[0mwiki\u001b[0m \u001b[0;34m=\u001b[0m \u001b[0mpd\u001b[0m\u001b[0;34m.\u001b[0m\u001b[0mread_csv\u001b[0m\u001b[0;34m(\u001b[0m\u001b[0;34m\"wiki.csv\"\u001b[0m\u001b[0;34m,\u001b[0m \u001b[0msep\u001b[0m \u001b[0;34m=\u001b[0m \u001b[0;34m\";\"\u001b[0m\u001b[0;34m)\u001b[0m\u001b[0;34m\u001b[0m\u001b[0;34m\u001b[0m\u001b[0m\n\u001b[0m",
            "\u001b[0;32m/usr/local/lib/python3.8/dist-packages/pandas/util/_decorators.py\u001b[0m in \u001b[0;36mwrapper\u001b[0;34m(*args, **kwargs)\u001b[0m\n\u001b[1;32m    309\u001b[0m                     \u001b[0mstacklevel\u001b[0m\u001b[0;34m=\u001b[0m\u001b[0mstacklevel\u001b[0m\u001b[0;34m,\u001b[0m\u001b[0;34m\u001b[0m\u001b[0;34m\u001b[0m\u001b[0m\n\u001b[1;32m    310\u001b[0m                 )\n\u001b[0;32m--> 311\u001b[0;31m             \u001b[0;32mreturn\u001b[0m \u001b[0mfunc\u001b[0m\u001b[0;34m(\u001b[0m\u001b[0;34m*\u001b[0m\u001b[0margs\u001b[0m\u001b[0;34m,\u001b[0m \u001b[0;34m**\u001b[0m\u001b[0mkwargs\u001b[0m\u001b[0;34m)\u001b[0m\u001b[0;34m\u001b[0m\u001b[0;34m\u001b[0m\u001b[0m\n\u001b[0m\u001b[1;32m    312\u001b[0m \u001b[0;34m\u001b[0m\u001b[0m\n\u001b[1;32m    313\u001b[0m         \u001b[0;32mreturn\u001b[0m \u001b[0mwrapper\u001b[0m\u001b[0;34m\u001b[0m\u001b[0;34m\u001b[0m\u001b[0m\n",
            "\u001b[0;32m/usr/local/lib/python3.8/dist-packages/pandas/io/parsers/readers.py\u001b[0m in \u001b[0;36mread_csv\u001b[0;34m(filepath_or_buffer, sep, delimiter, header, names, index_col, usecols, squeeze, prefix, mangle_dupe_cols, dtype, engine, converters, true_values, false_values, skipinitialspace, skiprows, skipfooter, nrows, na_values, keep_default_na, na_filter, verbose, skip_blank_lines, parse_dates, infer_datetime_format, keep_date_col, date_parser, dayfirst, cache_dates, iterator, chunksize, compression, thousands, decimal, lineterminator, quotechar, quoting, doublequote, escapechar, comment, encoding, encoding_errors, dialect, error_bad_lines, warn_bad_lines, on_bad_lines, delim_whitespace, low_memory, memory_map, float_precision, storage_options)\u001b[0m\n\u001b[1;32m    584\u001b[0m     \u001b[0mkwds\u001b[0m\u001b[0;34m.\u001b[0m\u001b[0mupdate\u001b[0m\u001b[0;34m(\u001b[0m\u001b[0mkwds_defaults\u001b[0m\u001b[0;34m)\u001b[0m\u001b[0;34m\u001b[0m\u001b[0;34m\u001b[0m\u001b[0m\n\u001b[1;32m    585\u001b[0m \u001b[0;34m\u001b[0m\u001b[0m\n\u001b[0;32m--> 586\u001b[0;31m     \u001b[0;32mreturn\u001b[0m \u001b[0m_read\u001b[0m\u001b[0;34m(\u001b[0m\u001b[0mfilepath_or_buffer\u001b[0m\u001b[0;34m,\u001b[0m \u001b[0mkwds\u001b[0m\u001b[0;34m)\u001b[0m\u001b[0;34m\u001b[0m\u001b[0;34m\u001b[0m\u001b[0m\n\u001b[0m\u001b[1;32m    587\u001b[0m \u001b[0;34m\u001b[0m\u001b[0m\n\u001b[1;32m    588\u001b[0m \u001b[0;34m\u001b[0m\u001b[0m\n",
            "\u001b[0;32m/usr/local/lib/python3.8/dist-packages/pandas/io/parsers/readers.py\u001b[0m in \u001b[0;36m_read\u001b[0;34m(filepath_or_buffer, kwds)\u001b[0m\n\u001b[1;32m    480\u001b[0m \u001b[0;34m\u001b[0m\u001b[0m\n\u001b[1;32m    481\u001b[0m     \u001b[0;31m# Create the parser.\u001b[0m\u001b[0;34m\u001b[0m\u001b[0;34m\u001b[0m\u001b[0;34m\u001b[0m\u001b[0m\n\u001b[0;32m--> 482\u001b[0;31m     \u001b[0mparser\u001b[0m \u001b[0;34m=\u001b[0m \u001b[0mTextFileReader\u001b[0m\u001b[0;34m(\u001b[0m\u001b[0mfilepath_or_buffer\u001b[0m\u001b[0;34m,\u001b[0m \u001b[0;34m**\u001b[0m\u001b[0mkwds\u001b[0m\u001b[0;34m)\u001b[0m\u001b[0;34m\u001b[0m\u001b[0;34m\u001b[0m\u001b[0m\n\u001b[0m\u001b[1;32m    483\u001b[0m \u001b[0;34m\u001b[0m\u001b[0m\n\u001b[1;32m    484\u001b[0m     \u001b[0;32mif\u001b[0m \u001b[0mchunksize\u001b[0m \u001b[0;32mor\u001b[0m \u001b[0miterator\u001b[0m\u001b[0;34m:\u001b[0m\u001b[0;34m\u001b[0m\u001b[0;34m\u001b[0m\u001b[0m\n",
            "\u001b[0;32m/usr/local/lib/python3.8/dist-packages/pandas/io/parsers/readers.py\u001b[0m in \u001b[0;36m__init__\u001b[0;34m(self, f, engine, **kwds)\u001b[0m\n\u001b[1;32m    809\u001b[0m             \u001b[0mself\u001b[0m\u001b[0;34m.\u001b[0m\u001b[0moptions\u001b[0m\u001b[0;34m[\u001b[0m\u001b[0;34m\"has_index_names\"\u001b[0m\u001b[0;34m]\u001b[0m \u001b[0;34m=\u001b[0m \u001b[0mkwds\u001b[0m\u001b[0;34m[\u001b[0m\u001b[0;34m\"has_index_names\"\u001b[0m\u001b[0;34m]\u001b[0m\u001b[0;34m\u001b[0m\u001b[0;34m\u001b[0m\u001b[0m\n\u001b[1;32m    810\u001b[0m \u001b[0;34m\u001b[0m\u001b[0m\n\u001b[0;32m--> 811\u001b[0;31m         \u001b[0mself\u001b[0m\u001b[0;34m.\u001b[0m\u001b[0m_engine\u001b[0m \u001b[0;34m=\u001b[0m \u001b[0mself\u001b[0m\u001b[0;34m.\u001b[0m\u001b[0m_make_engine\u001b[0m\u001b[0;34m(\u001b[0m\u001b[0mself\u001b[0m\u001b[0;34m.\u001b[0m\u001b[0mengine\u001b[0m\u001b[0;34m)\u001b[0m\u001b[0;34m\u001b[0m\u001b[0;34m\u001b[0m\u001b[0m\n\u001b[0m\u001b[1;32m    812\u001b[0m \u001b[0;34m\u001b[0m\u001b[0m\n\u001b[1;32m    813\u001b[0m     \u001b[0;32mdef\u001b[0m \u001b[0mclose\u001b[0m\u001b[0;34m(\u001b[0m\u001b[0mself\u001b[0m\u001b[0;34m)\u001b[0m\u001b[0;34m:\u001b[0m\u001b[0;34m\u001b[0m\u001b[0;34m\u001b[0m\u001b[0m\n",
            "\u001b[0;32m/usr/local/lib/python3.8/dist-packages/pandas/io/parsers/readers.py\u001b[0m in \u001b[0;36m_make_engine\u001b[0;34m(self, engine)\u001b[0m\n\u001b[1;32m   1038\u001b[0m             )\n\u001b[1;32m   1039\u001b[0m         \u001b[0;31m# error: Too many arguments for \"ParserBase\"\u001b[0m\u001b[0;34m\u001b[0m\u001b[0;34m\u001b[0m\u001b[0;34m\u001b[0m\u001b[0m\n\u001b[0;32m-> 1040\u001b[0;31m         \u001b[0;32mreturn\u001b[0m \u001b[0mmapping\u001b[0m\u001b[0;34m[\u001b[0m\u001b[0mengine\u001b[0m\u001b[0;34m]\u001b[0m\u001b[0;34m(\u001b[0m\u001b[0mself\u001b[0m\u001b[0;34m.\u001b[0m\u001b[0mf\u001b[0m\u001b[0;34m,\u001b[0m \u001b[0;34m**\u001b[0m\u001b[0mself\u001b[0m\u001b[0;34m.\u001b[0m\u001b[0moptions\u001b[0m\u001b[0;34m)\u001b[0m  \u001b[0;31m# type: ignore[call-arg]\u001b[0m\u001b[0;34m\u001b[0m\u001b[0;34m\u001b[0m\u001b[0m\n\u001b[0m\u001b[1;32m   1041\u001b[0m \u001b[0;34m\u001b[0m\u001b[0m\n\u001b[1;32m   1042\u001b[0m     \u001b[0;32mdef\u001b[0m \u001b[0m_failover_to_python\u001b[0m\u001b[0;34m(\u001b[0m\u001b[0mself\u001b[0m\u001b[0;34m)\u001b[0m\u001b[0;34m:\u001b[0m\u001b[0;34m\u001b[0m\u001b[0;34m\u001b[0m\u001b[0m\n",
            "\u001b[0;32m/usr/local/lib/python3.8/dist-packages/pandas/io/parsers/c_parser_wrapper.py\u001b[0m in \u001b[0;36m__init__\u001b[0;34m(self, src, **kwds)\u001b[0m\n\u001b[1;32m     49\u001b[0m \u001b[0;34m\u001b[0m\u001b[0m\n\u001b[1;32m     50\u001b[0m         \u001b[0;31m# open handles\u001b[0m\u001b[0;34m\u001b[0m\u001b[0;34m\u001b[0m\u001b[0;34m\u001b[0m\u001b[0m\n\u001b[0;32m---> 51\u001b[0;31m         \u001b[0mself\u001b[0m\u001b[0;34m.\u001b[0m\u001b[0m_open_handles\u001b[0m\u001b[0;34m(\u001b[0m\u001b[0msrc\u001b[0m\u001b[0;34m,\u001b[0m \u001b[0mkwds\u001b[0m\u001b[0;34m)\u001b[0m\u001b[0;34m\u001b[0m\u001b[0;34m\u001b[0m\u001b[0m\n\u001b[0m\u001b[1;32m     52\u001b[0m         \u001b[0;32massert\u001b[0m \u001b[0mself\u001b[0m\u001b[0;34m.\u001b[0m\u001b[0mhandles\u001b[0m \u001b[0;32mis\u001b[0m \u001b[0;32mnot\u001b[0m \u001b[0;32mNone\u001b[0m\u001b[0;34m\u001b[0m\u001b[0;34m\u001b[0m\u001b[0m\n\u001b[1;32m     53\u001b[0m \u001b[0;34m\u001b[0m\u001b[0m\n",
            "\u001b[0;32m/usr/local/lib/python3.8/dist-packages/pandas/io/parsers/base_parser.py\u001b[0m in \u001b[0;36m_open_handles\u001b[0;34m(self, src, kwds)\u001b[0m\n\u001b[1;32m    220\u001b[0m         \u001b[0mLet\u001b[0m \u001b[0mthe\u001b[0m \u001b[0mreaders\u001b[0m \u001b[0mopen\u001b[0m \u001b[0mIOHandles\u001b[0m \u001b[0mafter\u001b[0m \u001b[0mthey\u001b[0m \u001b[0mare\u001b[0m \u001b[0mdone\u001b[0m \u001b[0;32mwith\u001b[0m \u001b[0mtheir\u001b[0m \u001b[0mpotential\u001b[0m \u001b[0mraises\u001b[0m\u001b[0;34m.\u001b[0m\u001b[0;34m\u001b[0m\u001b[0;34m\u001b[0m\u001b[0m\n\u001b[1;32m    221\u001b[0m         \"\"\"\n\u001b[0;32m--> 222\u001b[0;31m         self.handles = get_handle(\n\u001b[0m\u001b[1;32m    223\u001b[0m             \u001b[0msrc\u001b[0m\u001b[0;34m,\u001b[0m\u001b[0;34m\u001b[0m\u001b[0;34m\u001b[0m\u001b[0m\n\u001b[1;32m    224\u001b[0m             \u001b[0;34m\"r\"\u001b[0m\u001b[0;34m,\u001b[0m\u001b[0;34m\u001b[0m\u001b[0;34m\u001b[0m\u001b[0m\n",
            "\u001b[0;32m/usr/local/lib/python3.8/dist-packages/pandas/io/common.py\u001b[0m in \u001b[0;36mget_handle\u001b[0;34m(path_or_buf, mode, encoding, compression, memory_map, is_text, errors, storage_options)\u001b[0m\n\u001b[1;32m    700\u001b[0m         \u001b[0;32mif\u001b[0m \u001b[0mioargs\u001b[0m\u001b[0;34m.\u001b[0m\u001b[0mencoding\u001b[0m \u001b[0;32mand\u001b[0m \u001b[0;34m\"b\"\u001b[0m \u001b[0;32mnot\u001b[0m \u001b[0;32min\u001b[0m \u001b[0mioargs\u001b[0m\u001b[0;34m.\u001b[0m\u001b[0mmode\u001b[0m\u001b[0;34m:\u001b[0m\u001b[0;34m\u001b[0m\u001b[0;34m\u001b[0m\u001b[0m\n\u001b[1;32m    701\u001b[0m             \u001b[0;31m# Encoding\u001b[0m\u001b[0;34m\u001b[0m\u001b[0;34m\u001b[0m\u001b[0;34m\u001b[0m\u001b[0m\n\u001b[0;32m--> 702\u001b[0;31m             handle = open(\n\u001b[0m\u001b[1;32m    703\u001b[0m                 \u001b[0mhandle\u001b[0m\u001b[0;34m,\u001b[0m\u001b[0;34m\u001b[0m\u001b[0;34m\u001b[0m\u001b[0m\n\u001b[1;32m    704\u001b[0m                 \u001b[0mioargs\u001b[0m\u001b[0;34m.\u001b[0m\u001b[0mmode\u001b[0m\u001b[0;34m,\u001b[0m\u001b[0;34m\u001b[0m\u001b[0;34m\u001b[0m\u001b[0m\n",
            "\u001b[0;31mFileNotFoundError\u001b[0m: [Errno 2] No such file or directory: 'wiki.csv'"
          ]
        }
      ],
      "source": [
        "wiki = pd.read_csv(\"wiki.csv\", sep = \";\")"
      ]
    },
    {
      "cell_type": "markdown",
      "metadata": {
        "id": "dMFK-UpJvIIv"
      },
      "source": [
        "Определим размерность датафрейма – число строк и число столбцов:"
      ]
    },
    {
      "cell_type": "code",
      "execution_count": null,
      "metadata": {
        "id": "BavoN2iTvIIw",
        "outputId": "c604dc55-8097-45e0-9914-329609b28f45"
      },
      "outputs": [
        {
          "data": {
            "text/plain": [
              "(913, 53)"
            ]
          },
          "execution_count": 3,
          "metadata": {},
          "output_type": "execute_result"
        }
      ],
      "source": [
        "wiki.shape"
      ]
    },
    {
      "cell_type": "markdown",
      "metadata": {
        "id": "bC408fgWvIIy"
      },
      "source": [
        "Итак, в датафрейме 913 строк и 53 столбца. Значит, всего было опрошено 913 человек."
      ]
    },
    {
      "cell_type": "markdown",
      "metadata": {
        "id": "f1EcOOI5vIIz"
      },
      "source": [
        "### Работа с долями: бинарные переменные"
      ]
    },
    {
      "cell_type": "markdown",
      "metadata": {
        "id": "zjq1He8VvIIz"
      },
      "source": [
        "Выберем столбец `GENDER`, который соответствует полу респондента (0 – мужской, 1 – женский), укажем название этого столбца в квадратных скобках:"
      ]
    },
    {
      "cell_type": "code",
      "execution_count": null,
      "metadata": {
        "id": "sMmtVK4ovII0",
        "outputId": "c04bc0b6-aa01-41ba-a36e-9423bb656693"
      },
      "outputs": [
        {
          "data": {
            "text/plain": [
              "0      0\n",
              "1      0\n",
              "2      0\n",
              "3      0\n",
              "4      0\n",
              "      ..\n",
              "908    0\n",
              "909    0\n",
              "910    0\n",
              "911    0\n",
              "912    1\n",
              "Name: GENDER, Length: 913, dtype: int64"
            ]
          },
          "execution_count": 4,
          "metadata": {},
          "output_type": "execute_result"
        }
      ],
      "source": [
        "wiki[\"GENDER\"]"
      ]
    },
    {
      "cell_type": "markdown",
      "metadata": {
        "id": "nWIJ4QqqvII1"
      },
      "source": [
        "Проверим, что в этом столбце нет значений, кроме 0 и 1. Запросим уникальные значения с помощью метода `.unique()`:"
      ]
    },
    {
      "cell_type": "code",
      "execution_count": null,
      "metadata": {
        "id": "w_6rTY7FvII1",
        "outputId": "7ce28b2b-017f-4c47-d9af-727fa3e6662a"
      },
      "outputs": [
        {
          "data": {
            "text/plain": [
              "array([0, 1])"
            ]
          },
          "execution_count": 5,
          "metadata": {},
          "output_type": "execute_result"
        }
      ],
      "source": [
        "wiki[\"GENDER\"].unique()"
      ]
    },
    {
      "cell_type": "markdown",
      "metadata": {
        "id": "nVk-4PvQvII2"
      },
      "source": [
        "Все нормально, лишнего ничего нет. Посчитаем, сколько в столбце нулей и единиц. Для этого сформируем таблицу частот с помощью метода `.value_counts()`:"
      ]
    },
    {
      "cell_type": "code",
      "execution_count": null,
      "metadata": {
        "id": "9T-kxk91vII2",
        "outputId": "15bbf511-e7fc-4943-f508-f7f064173ae2"
      },
      "outputs": [
        {
          "data": {
            "text/plain": [
              "0    525\n",
              "1    388\n",
              "Name: GENDER, dtype: int64"
            ]
          },
          "execution_count": 6,
          "metadata": {},
          "output_type": "execute_result"
        }
      ],
      "source": [
        "wiki[\"GENDER\"].value_counts()"
      ]
    },
    {
      "cell_type": "markdown",
      "metadata": {
        "id": "vrezyvVwvII3"
      },
      "source": [
        "Итак, в опросе участвовало 525 женщин и 388 мужчин. Допустим, нас интересует доля мужчин, принявших участие в опросе. В нашем случае эта доля примерно соответствует доле мужчин, работающих в двух университетах Каталонии (Открытом университете и университете Помпеу-Фабра). \n",
        "\n",
        "Понятно, что чтобы определить такую долю, нам нужно 388 поделить на общее число респондентов, а их у нас 913 (общее число строк в датафрейме). \n",
        "\n",
        "Вопрос: а как посчитать долю более универсальным образом? Ответ: автоматически посчитать число единиц, автоматически посчитать общее число элементов в столбце и поделить одно на другое. Если у нас есть набор из 0 и 1, число единиц совпадает с суммой элементов (сумма нулей ничего нового не дает). Посчитаем сумму элементов столбца через метод `.sum()`:"
      ]
    },
    {
      "cell_type": "code",
      "execution_count": null,
      "metadata": {
        "id": "VCpOG0x0vII4",
        "outputId": "71a2e1df-0d97-48d7-c0f2-90799cdc625f"
      },
      "outputs": [
        {
          "data": {
            "text/plain": [
              "388"
            ]
          },
          "execution_count": 7,
          "metadata": {},
          "output_type": "execute_result"
        }
      ],
      "source": [
        "wiki[\"GENDER\"].sum()"
      ]
    },
    {
      "cell_type": "markdown",
      "metadata": {
        "id": "CC1C8YVCvII5"
      },
      "source": [
        "Общее число элементов в столбце хранится в атрибуте `.size`:"
      ]
    },
    {
      "cell_type": "code",
      "execution_count": null,
      "metadata": {
        "id": "l2WBxRRwvII5",
        "outputId": "f08ff894-3c9a-4308-c61c-7ccf08bf205f"
      },
      "outputs": [
        {
          "data": {
            "text/plain": [
              "913"
            ]
          },
          "execution_count": 8,
          "metadata": {},
          "output_type": "execute_result"
        }
      ],
      "source": [
        "wiki[\"GENDER\"].size"
      ]
    },
    {
      "cell_type": "markdown",
      "metadata": {
        "id": "bMdJs6TdvII6"
      },
      "source": [
        "*Пояснение.* Атрибут – некоторая фиксированная характеристика объекта (число строк или столбцов в датафрейме, названия строк или столбцов, тип данных), метод – функция, которая выполняет некоторую операцию над объектом. И атрибуты, и методы вызываются через точку, но в конце метода всегда есть круглые скобки (например, `.sum()`), они означают, что мы хотим применить метод, а не просто вызвать и посмотреть на него."
      ]
    },
    {
      "cell_type": "markdown",
      "metadata": {
        "id": "jQOlcA4uvII6"
      },
      "source": [
        "Для вычисления доли поделим одно на другое:"
      ]
    },
    {
      "cell_type": "code",
      "execution_count": null,
      "metadata": {
        "id": "9EdJaYTPvII7",
        "outputId": "7ddcfc63-b214-4ff9-b796-d6533aaef67f"
      },
      "outputs": [
        {
          "data": {
            "text/plain": [
              "0.4249726177437021"
            ]
          },
          "execution_count": 9,
          "metadata": {},
          "output_type": "execute_result"
        }
      ],
      "source": [
        "wiki[\"GENDER\"].sum() / wiki[\"GENDER\"].size"
      ]
    },
    {
      "cell_type": "markdown",
      "metadata": {
        "id": "HRrDjj8JvII8"
      },
      "source": [
        "Несложно догадаться, что мы сейчас просто посчитали среднее арифметическое столбца `GENDER`. Конечно, можно было поступить проще — воспользоваться методом `.mean()`. "
      ]
    },
    {
      "cell_type": "code",
      "execution_count": null,
      "metadata": {
        "id": "2xJHZGxmvII8",
        "outputId": "9a08c4bd-972d-4e48-ef41-e1f6a6439767"
      },
      "outputs": [
        {
          "data": {
            "text/plain": [
              "0.4249726177437021"
            ]
          },
          "execution_count": 10,
          "metadata": {},
          "output_type": "execute_result"
        }
      ],
      "source": [
        "wiki[\"GENDER\"].mean()"
      ]
    },
    {
      "cell_type": "markdown",
      "metadata": {
        "id": "TG7TIpdbvII9"
      },
      "source": [
        "Но наши вычисления нам тоже сейчас пригодятся."
      ]
    },
    {
      "cell_type": "markdown",
      "metadata": {
        "id": "gnrmNFtSvII9"
      },
      "source": [
        "### Доверительный интервал для доли"
      ]
    },
    {
      "cell_type": "markdown",
      "metadata": {
        "id": "cAj0PHMbvII-"
      },
      "source": [
        "Вспомним, как вычисляется 95%-ный доверительный интервал для доли (примерно):\n",
        "\n",
        "$$\n",
        "\\hat{p} - 2 \\times s_{\\hat{p}} < p < \\hat{p} + 2 \\times s_{\\hat{p}}.\n",
        "$$\n",
        "\n",
        "Здесь $p$ – доля в генеральной совокупности, которая нам неизвестна и которую мы хотим оценить с помощью доверительного интервала, $\\hat{p}$ – доля, полученная по выборке, $s_{\\hat{p}}$ – стандартное отклонение доли, тоже полученное по выборке, которое вычисляется так ($n$ – число наблюдений в выборке):\n",
        "\n",
        "$$\n",
        "s_{\\hat{p}} = \\sqrt{\\frac{\\hat{p}(1-\\hat{p})}{n}}.\n",
        "$$\n",
        "\n",
        "Давайте используем строчки кода, написанные ранее, для вычисления характеристик, которые присутствуют в формулах, и построим 95%-ный доверительный интервал для доли мужчин среди профессорско-преподавательского состава двух университетов Каталонии."
      ]
    },
    {
      "cell_type": "code",
      "execution_count": null,
      "metadata": {
        "id": "yauIb5GLvII-"
      },
      "outputs": [],
      "source": [
        "n = wiki[\"GENDER\"].size  # размер выборки\n",
        "p = wiki[\"GENDER\"].sum() / n  # доля p^"
      ]
    },
    {
      "cell_type": "markdown",
      "metadata": {
        "id": "G77QoacQvII_"
      },
      "source": [
        "Теперь, зная $n$ и $\\hat{p}$, мы можем посчитать стандартное отклонение доли $s_{\\hat{p}}$. Для извлечения квадратного корня возьмем функцию `sqrt()` из библиотеки `numpy`:"
      ]
    },
    {
      "cell_type": "code",
      "execution_count": null,
      "metadata": {
        "id": "RMXUldBsvII_",
        "outputId": "3ac85084-9c8d-4e62-f38f-4debf0425363"
      },
      "outputs": [
        {
          "data": {
            "text/plain": [
              "0.016360227864035466"
            ]
          },
          "execution_count": 12,
          "metadata": {},
          "output_type": "execute_result"
        }
      ],
      "source": [
        "s_p = np.sqrt(p * (1 - p) / n) \n",
        "s_p"
      ]
    },
    {
      "cell_type": "markdown",
      "metadata": {
        "id": "oE_6w6zZvIJA"
      },
      "source": [
        "Осталось все собрать воедино и посчитать границы доверительного интервала.\n",
        "Подставим все в формулу:"
      ]
    },
    {
      "cell_type": "code",
      "execution_count": null,
      "metadata": {
        "id": "R2YFG4slvIJA",
        "outputId": "eba6c70e-97c7-42f9-aab6-ffa4604b6ea7"
      },
      "outputs": [
        {
          "data": {
            "text/plain": [
              "(0.3922521620156312, 0.457693073471773)"
            ]
          },
          "execution_count": 13,
          "metadata": {},
          "output_type": "execute_result"
        }
      ],
      "source": [
        "(p - 2 * s_p, p + 2 * s_p) "
      ]
    },
    {
      "cell_type": "markdown",
      "metadata": {
        "id": "DtxHFyeqvIJB"
      },
      "source": [
        "Итак, можем сказать, что с 95% уверенностью можно считать, что истинная доля мужчин, работающих в университетах Каталонии, лежит в интервале от 0.39 до 0.46."
      ]
    },
    {
      "cell_type": "markdown",
      "metadata": {
        "id": "RRqP54vCvIJB"
      },
      "source": [
        "Тот же самый интервал мы могли бы посчитать, воспользовавшись специальной функцией из модуля `stats` библиотеки `scipy` :"
      ]
    },
    {
      "cell_type": "code",
      "execution_count": null,
      "metadata": {
        "id": "BDnKHHUAvIJB"
      },
      "outputs": [],
      "source": [
        "import scipy.stats as st"
      ]
    },
    {
      "cell_type": "markdown",
      "metadata": {
        "id": "cZbylhPDvIJC"
      },
      "source": [
        "Функция `norm.interval()` позволяет строить некоторые интервалы, предполагая, что те оценки, для которых мы эти интервалы строим, берутся из нормального распределения с некоторым средним (`loc`) и некоторым стандартным отклонением (`scale`). Можем подставить наши значения `p` и `s_p` в качестве параметров такого распределения и зафиксировать уровень доверия:"
      ]
    },
    {
      "cell_type": "code",
      "execution_count": null,
      "metadata": {
        "id": "zTRmwQBzvIJC",
        "outputId": "2bb233ea-a6e0-44c8-da49-d0f7381fa0d5"
      },
      "outputs": [
        {
          "data": {
            "text/plain": [
              "(0.39290716035132395, 0.45703807513608025)"
            ]
          },
          "execution_count": 15,
          "metadata": {},
          "output_type": "execute_result"
        }
      ],
      "source": [
        "st.norm.interval(0.95, loc = p, scale = s_p)"
      ]
    },
    {
      "cell_type": "markdown",
      "metadata": {
        "id": "MjFOJCMjvIJC"
      },
      "source": [
        "Данный интервал чуть более точный, чем тот, который мы посчитали ранее, потому что значение, на которое мы домножаем `s_p`, на самом деле, не совсем 2, а  поменьше - 1.96 (из курса по теории вероятностей)."
      ]
    },
    {
      "cell_type": "markdown",
      "metadata": {
        "id": "xaDLhaJqvIJC"
      },
      "source": [
        "### Доверительный интервал для среднего\n",
        "\n",
        "Допустим, мы хотим понять, в каком интервале, с 95%-ной уверенностью, лежит среднее значение возраста сотрудников двух каталонских университетов. \n",
        "\n",
        "Для начала посмотрим на описательные статистики столбца `AGE`:"
      ]
    },
    {
      "cell_type": "code",
      "execution_count": null,
      "metadata": {
        "id": "9_bGRHQxvIJD",
        "outputId": "8ef9776e-d8fe-46f1-bd32-c12e0930e7f2"
      },
      "outputs": [
        {
          "data": {
            "text/plain": [
              "count    913.000000\n",
              "mean      42.246440\n",
              "std        8.058418\n",
              "min       23.000000\n",
              "25%       36.000000\n",
              "50%       42.000000\n",
              "75%       47.000000\n",
              "max       69.000000\n",
              "Name: AGE, dtype: float64"
            ]
          },
          "execution_count": 16,
          "metadata": {},
          "output_type": "execute_result"
        }
      ],
      "source": [
        "wiki[\"AGE\"].describe()"
      ]
    },
    {
      "cell_type": "markdown",
      "metadata": {
        "id": "NA9QwOoDvIJD"
      },
      "source": [
        "Итак, средний возраст примерно равен 42 годам, медианный тоже. Но, на самом деле, истинное среднее значение возраста может быть немного иным, исследователи же не смогли опросить всех сотрудников обоих университетов, их там много!\n",
        "\n",
        "Чтобы учесть такую неопределенность в наших оценках, построим 95%-ный доверительный интервал для среднего. Вспомним, как он считается:\n",
        "\n",
        "$$\n",
        "\\hat{\\mu} - 2 \\times s_{\\hat{\\mu}} < \\mu < \\hat{\\mu} + 2 \\times s_{\\hat{\\mu}}.\n",
        "$$\n",
        "\n",
        "Здесь $\\mu$ – среднее генеральной совокупности, которое нам неизвестно и которое мы хотим оценить с помощью доверительного интервала, $\\hat{\\mu}$ – среднее, полученное по выборке, $s_{\\hat{\\mu}}$ – стандартное отклонение среднего, тоже полученное по выборке, которое вычисляется на основе стандартного отклонения самой выборки $s$ и ее объема $n$:\n",
        "\n",
        "$$\n",
        "s_{\\hat{\\mu}} = \\frac{s}{\\sqrt{n}}\n",
        "$$\n"
      ]
    },
    {
      "cell_type": "markdown",
      "metadata": {
        "id": "HbeZmvWMvIJD"
      },
      "source": [
        "Итак, опять соберем все составные части для формулы. "
      ]
    },
    {
      "cell_type": "code",
      "execution_count": null,
      "metadata": {
        "id": "tDFBnVrKvIJE"
      },
      "outputs": [],
      "source": [
        "n = wiki[\"AGE\"].size  # размер выборки\n",
        "mu = wiki[\"AGE\"].mean()  # среднее выборки mu^\n",
        "s = wiki[\"AGE\"].std()  # ст отклонение выборки s"
      ]
    },
    {
      "cell_type": "markdown",
      "metadata": {
        "id": "o68VF5ajvIJE"
      },
      "source": [
        "Вычислим стандартное отклонение среднего:"
      ]
    },
    {
      "cell_type": "code",
      "execution_count": null,
      "metadata": {
        "id": "RlsrOQ00vIJE",
        "outputId": "20f94190-ae84-4f35-ee66-1a0ce99f09cf"
      },
      "outputs": [
        {
          "data": {
            "text/plain": [
              "0.26669471758704505"
            ]
          },
          "execution_count": 18,
          "metadata": {},
          "output_type": "execute_result"
        }
      ],
      "source": [
        "s_mu = s / np.sqrt(n)\n",
        "s_mu"
      ]
    },
    {
      "cell_type": "markdown",
      "metadata": {
        "id": "6Qx00z6ovIJF"
      },
      "source": [
        "Для построения доверительного интервала для среднего также воспользуемся специальной функцией из модуля `stats`. В случае с долей мы использовали функцию `norm.interval()`, так как там нам нужно было нормальное распределение, а здесь нам понадобится функция `t.interval()` для распределения Стьюдента. Помимо уровня доверия, значение `mu` и `s_mu` нам необходимо число степеней свободы для распределения Стьюдента, оно равно $\\text{df} = n - 1$. Подставлям все и вычисляем:"
      ]
    },
    {
      "cell_type": "code",
      "execution_count": null,
      "metadata": {
        "id": "eypmYkfdvIJF",
        "outputId": "5733bda3-a86e-4b0d-b3c1-93734058a64c"
      },
      "outputs": [
        {
          "data": {
            "text/plain": [
              "(41.723033639899846, 42.7698469734627)"
            ]
          },
          "execution_count": 19,
          "metadata": {},
          "output_type": "execute_result"
        }
      ],
      "source": [
        "st.t.interval(0.95, df = n - 1, loc = mu, scale = s_mu) "
      ]
    },
    {
      "cell_type": "markdown",
      "metadata": {
        "id": "9MPwFKy0vIJF"
      },
      "source": [
        "Итак, доверительный интервал получился довольно узким. С 95%-ной уверенностью можно утверждать, что средний возраст сотрудников каталонских университетов лежит в интервале от 42 до 43 лет (тут разумнее округлить значения до целых)."
      ]
    },
    {
      "cell_type": "markdown",
      "metadata": {
        "id": "VuyuogtJvIJG"
      },
      "source": [
        "### Проверка гипотез: сравнение средних двух групп"
      ]
    },
    {
      "cell_type": "markdown",
      "metadata": {
        "id": "h2whjZZevIJG"
      },
      "source": [
        "Допустим, мы хотим выяснить, отличается ли средний возраст сотрудников каталонских университетов, которые считают использование Википедии полезным для преподавания, и тех сотрудников, которые так не считают.\n",
        "\n",
        "Полезность Википедии для преподавания участники опроса оценивали в вопросе `QU3`. Они выражали свою степень согласия с утверждением *Wikipedia is useful for teaching*. Посмотрим на ответы:"
      ]
    },
    {
      "cell_type": "code",
      "execution_count": null,
      "metadata": {
        "id": "Wru6YRjVvIJG",
        "outputId": "49fd845d-e848-4260-960c-d51c5eea8b47"
      },
      "outputs": [
        {
          "data": {
            "text/plain": [
              "3    312\n",
              "4    250\n",
              "5    175\n",
              "2    151\n",
              "1     20\n",
              "?      5\n",
              "Name: PU3, dtype: int64"
            ]
          },
          "execution_count": 20,
          "metadata": {},
          "output_type": "execute_result"
        }
      ],
      "source": [
        "wiki[\"PU3\"].value_counts()"
      ]
    },
    {
      "cell_type": "markdown",
      "metadata": {
        "id": "YLt4ujppvIJH"
      },
      "source": [
        "Давайте создадим столбец, который будет состоять из значений `USEFUL`, если респондент считает Википедию полезной (высокая степень согласия с утверждением, значения 4 или 5 по шкале Лайкерта), и значений `USELESS`, если респондент так не считает (низкая степень согласия с утверждением, значения 1 или 2 по шкале Лайкерта). Пропущенные ответы `?` и категорию *Neither disagree nor agree* проигнорируем, потом исключим.\n",
        "\n",
        "Как удобнее всего это сделать, чтобы избежать циклов для пробегания по всем ячейкам столбца `PU3`? Написать функцию, которая принимает на вход значение *одной ячейки* и возвращает ответ `USEFUL` или `USELESS`, а затем применить ее ко всему столбцу с помощью специального метода."
      ]
    },
    {
      "cell_type": "markdown",
      "metadata": {
        "id": "JPcj3qyvvIJH"
      },
      "source": [
        "Напишем функцию под названием `check_use()`, на вход она принимает значение `x`, проверяет условия, и, в зависимости от их выполнения, возвращает строку с тем или иным ответом:"
      ]
    },
    {
      "cell_type": "code",
      "execution_count": null,
      "metadata": {
        "id": "GeSP_2-AvIJH"
      },
      "outputs": [],
      "source": [
        "def check_use(x):\n",
        "    \n",
        "    # если 4 или 5 возвращаем USEFUL\n",
        "    # если иначе, тестим следующее условие для 1 и 2\n",
        "    # если и оно не выполняется, ставим пропуск – пустое значение\n",
        "    \n",
        "    if (x == '4') | (x == '5'):\n",
        "        r = 'USEFUL'\n",
        "    elif (x == '1') | (x == '2'):\n",
        "        r = 'USELESS'\n",
        "    else:\n",
        "        r = None\n",
        "    return r"
      ]
    },
    {
      "cell_type": "markdown",
      "metadata": {
        "id": "a9vQEwrSvIJI"
      },
      "source": [
        "Проверим работу функции на отдельных значениях:"
      ]
    },
    {
      "cell_type": "code",
      "execution_count": null,
      "metadata": {
        "id": "VzGkd5AAvIJI",
        "outputId": "9430b843-6a1e-4eb2-d141-8fcccbc23dd5"
      },
      "outputs": [
        {
          "data": {
            "text/plain": [
              "'USEFUL'"
            ]
          },
          "execution_count": 22,
          "metadata": {},
          "output_type": "execute_result"
        }
      ],
      "source": [
        "check_use('4')"
      ]
    },
    {
      "cell_type": "code",
      "execution_count": null,
      "metadata": {
        "id": "MdaFS7azvIJI",
        "outputId": "1608f5f6-30fc-4f9c-b8bf-ebd090caceaf"
      },
      "outputs": [
        {
          "data": {
            "text/plain": [
              "'USELESS'"
            ]
          },
          "execution_count": 23,
          "metadata": {},
          "output_type": "execute_result"
        }
      ],
      "source": [
        "check_use('1')"
      ]
    },
    {
      "cell_type": "code",
      "execution_count": null,
      "metadata": {
        "id": "__9MoExpvIJJ"
      },
      "outputs": [],
      "source": [
        "check_use('?') # None "
      ]
    },
    {
      "cell_type": "markdown",
      "metadata": {
        "id": "4OIYmav3vIJJ"
      },
      "source": [
        "Теперь применим функцию ко всем ячейкам в столбце, используя метод `.apply()`, и сохраним значения в новый столбец `USEFULNESS`:"
      ]
    },
    {
      "cell_type": "code",
      "execution_count": null,
      "metadata": {
        "id": "iAQAo4TivIJJ"
      },
      "outputs": [],
      "source": [
        "wiki[\"USEFULNESS\"] = wiki[\"PU3\"].apply(check_use)"
      ]
    },
    {
      "cell_type": "markdown",
      "metadata": {
        "id": "MuqDoMuhvIJJ"
      },
      "source": [
        "Проверим, что получилось:"
      ]
    },
    {
      "cell_type": "code",
      "execution_count": null,
      "metadata": {
        "id": "uFkfLT0vvIJK",
        "outputId": "54b2fec1-ce6a-4bee-c1ee-36969f1cbcf7"
      },
      "outputs": [
        {
          "data": {
            "text/plain": [
              "USEFUL     425\n",
              "USELESS    171\n",
              "Name: USEFULNESS, dtype: int64"
            ]
          },
          "execution_count": 26,
          "metadata": {},
          "output_type": "execute_result"
        }
      ],
      "source": [
        "wiki[\"USEFULNESS\"].value_counts()"
      ]
    },
    {
      "cell_type": "markdown",
      "metadata": {
        "id": "qqBOgZq-vIJK"
      },
      "source": [
        "Метод `.value_counts()` игнорирует пропуски, не показывает, сколько их. Воспользуемся методом `.isna()`:"
      ]
    },
    {
      "cell_type": "code",
      "execution_count": null,
      "metadata": {
        "id": "HvoO9s0WvIJL",
        "outputId": "43ddbe49-730a-4f8d-f6bb-23abd538f4ed"
      },
      "outputs": [
        {
          "data": {
            "text/plain": [
              "0       True\n",
              "1       True\n",
              "2      False\n",
              "3      False\n",
              "4      False\n",
              "       ...  \n",
              "908     True\n",
              "909    False\n",
              "910     True\n",
              "911    False\n",
              "912     True\n",
              "Name: USEFULNESS, Length: 913, dtype: bool"
            ]
          },
          "execution_count": 27,
          "metadata": {},
          "output_type": "execute_result"
        }
      ],
      "source": [
        "wiki[\"USEFULNESS\"].isna()"
      ]
    },
    {
      "cell_type": "markdown",
      "metadata": {
        "id": "BjCuAH1WvIJL"
      },
      "source": [
        "Этот метод для каждой ячейки в столбце возвращает значение `True` (пропуск есть) или `False` (пропуска нет). Чтобы посчитать количество пропусков, нужно просто посчитать сумму по этому набору `True` и `False`, так как для Python значение `True` равносильно 1, а значение `False` равносильно 0. \n"
      ]
    },
    {
      "cell_type": "code",
      "execution_count": null,
      "metadata": {
        "id": "vfqYRLKHvIJM",
        "outputId": "7ecac69f-ea00-4dc4-daeb-e0408f446c4d"
      },
      "outputs": [
        {
          "data": {
            "text/plain": [
              "317"
            ]
          },
          "execution_count": 28,
          "metadata": {},
          "output_type": "execute_result"
        }
      ],
      "source": [
        "wiki[\"USEFULNESS\"].isna().sum()"
      ]
    },
    {
      "cell_type": "markdown",
      "metadata": {
        "id": "CabOSt6AvIJM"
      },
      "source": [
        "Итого, 317 строк с пропущенными значениями в столбце `USEFULNESS`.Удалим их. Если мы применим метод `.dropna()` для удаления строк с пропущенными значениями ко всему датафрейму, удалятся все строки, где есть хотя бы одно пропущенное значение (не только в столбце `USEFULNESS`). В нашем случае это не так страшно, потому что «чистых» пропусков в датафрейме нет, (кроме тех, которые мы сами создали, добавив `None`), отсутствие ответов закодировано `?`. Но вообще это может быть большой проблемой, особенно, если набор данных большой. Если столбцов много, есть риск, что не все они заполнены полностью, то есть, теоретически, в каждой строке будет хотя бы один пропуск. Если использовать `.dropna()` бездумно, потерять все данные.\n",
        "\n",
        "Поэтому (хоть в конкретном случае это не требуется) удалим строки с пропусками в столбце `USEFULNESS`:"
      ]
    },
    {
      "cell_type": "code",
      "execution_count": null,
      "metadata": {
        "id": "T7v1OXq7vIJN"
      },
      "outputs": [],
      "source": [
        "# в suubset можно вписать целый список названий столбцов\n",
        "\n",
        "wiki = wiki.dropna(subset = [\"USEFULNESS\"])"
      ]
    },
    {
      "cell_type": "markdown",
      "metadata": {
        "id": "MNBbche6vIJN"
      },
      "source": [
        "Все готово для сравнения средних. Для начала сравним выборочные средние. Сгруппируем данные по столбцу `USEFULNESS` и посчитаем средние:"
      ]
    },
    {
      "cell_type": "code",
      "execution_count": null,
      "metadata": {
        "id": "hPCRG8_GvIJN",
        "outputId": "d1a06546-b6ac-42bb-db9b-cca2ed8660bf"
      },
      "outputs": [
        {
          "data": {
            "text/html": [
              "<div>\n",
              "<style scoped>\n",
              "    .dataframe tbody tr th:only-of-type {\n",
              "        vertical-align: middle;\n",
              "    }\n",
              "\n",
              "    .dataframe tbody tr th {\n",
              "        vertical-align: top;\n",
              "    }\n",
              "\n",
              "    .dataframe thead th {\n",
              "        text-align: right;\n",
              "    }\n",
              "</style>\n",
              "<table border=\"1\" class=\"dataframe\">\n",
              "  <thead>\n",
              "    <tr style=\"text-align: right;\">\n",
              "      <th></th>\n",
              "      <th>AGE</th>\n",
              "      <th>GENDER</th>\n",
              "      <th>PhD</th>\n",
              "      <th>UNIVERSITY</th>\n",
              "    </tr>\n",
              "    <tr>\n",
              "      <th>USEFULNESS</th>\n",
              "      <th></th>\n",
              "      <th></th>\n",
              "      <th></th>\n",
              "      <th></th>\n",
              "    </tr>\n",
              "  </thead>\n",
              "  <tbody>\n",
              "    <tr>\n",
              "      <td>USEFUL</td>\n",
              "      <td>42.197647</td>\n",
              "      <td>0.327059</td>\n",
              "      <td>0.451765</td>\n",
              "      <td>1.131765</td>\n",
              "    </tr>\n",
              "    <tr>\n",
              "      <td>USELESS</td>\n",
              "      <td>43.011696</td>\n",
              "      <td>0.491228</td>\n",
              "      <td>0.456140</td>\n",
              "      <td>1.070175</td>\n",
              "    </tr>\n",
              "  </tbody>\n",
              "</table>\n",
              "</div>"
            ],
            "text/plain": [
              "                  AGE    GENDER       PhD  UNIVERSITY\n",
              "USEFULNESS                                           \n",
              "USEFUL      42.197647  0.327059  0.451765    1.131765\n",
              "USELESS     43.011696  0.491228  0.456140    1.070175"
            ]
          },
          "execution_count": 30,
          "metadata": {},
          "output_type": "execute_result"
        }
      ],
      "source": [
        "wiki.groupby(\"USEFULNESS\").mean()"
      ]
    },
    {
      "cell_type": "markdown",
      "metadata": {
        "id": "b5Rzi8otvIJO"
      },
      "source": [
        "По умолчанию функция `.mean()` вычисляет средние для всех числовых столбцов. Выберем только один нужный столбец.\n"
      ]
    },
    {
      "cell_type": "code",
      "execution_count": null,
      "metadata": {
        "id": "oJ7sK2wivIJO",
        "outputId": "3ba078fb-22a1-4369-c33d-3a41c8b6ac13"
      },
      "outputs": [
        {
          "data": {
            "text/plain": [
              "USEFULNESS\n",
              "USEFUL     42.197647\n",
              "USELESS    43.011696\n",
              "Name: AGE, dtype: float64"
            ]
          },
          "execution_count": 31,
          "metadata": {},
          "output_type": "execute_result"
        }
      ],
      "source": [
        "wiki.groupby(\"USEFULNESS\").mean()[\"AGE\"]"
      ]
    },
    {
      "cell_type": "markdown",
      "metadata": {
        "id": "6no856JJvIJO"
      },
      "source": [
        "Судя по всему, различия в средних небольшие. Но не помешает проверить более строго, вдруг эта разница в средних в один год все-таки существенна из-за небольшого разброса данных? \n",
        "\n",
        "Для проверки гипотезы о равенстве средних в двух группах с помощью t-критерия Стьюдента можно воспользоваться функцией `ttest_ind` все из того же модуля `stats`. Часть с `_ind` отвечает за *independent samples*, независимые выборки (например, разные люди в двух выборках, а не одни и те же в начале исследования и в конце). Эта функция имеет небольшой минус: она принимает на вход две отдельные выборки, поэтому их сначала надо будет получить, отфильтровать соответствующие строки."
      ]
    },
    {
      "cell_type": "code",
      "execution_count": null,
      "metadata": {
        "id": "4qVfqztCvIJO"
      },
      "outputs": [],
      "source": [
        "wiki_useful = wiki[wiki[\"USEFULNESS\"] == \"USEFUL\"]\n",
        "wiki_useless = wiki[wiki[\"USEFULNESS\"] == \"USELESS\"]"
      ]
    },
    {
      "cell_type": "code",
      "execution_count": null,
      "metadata": {
        "id": "sFK7useAvIJP",
        "outputId": "4fa1f531-b35d-4846-9f6f-8fc59ccae35d"
      },
      "outputs": [
        {
          "data": {
            "text/plain": [
              "2      False\n",
              "3       True\n",
              "4       True\n",
              "6       True\n",
              "7       True\n",
              "       ...  \n",
              "903     True\n",
              "904     True\n",
              "907    False\n",
              "909     True\n",
              "911     True\n",
              "Name: USEFULNESS, Length: 596, dtype: bool"
            ]
          },
          "execution_count": 33,
          "metadata": {},
          "output_type": "execute_result"
        }
      ],
      "source": [
        "wiki[\"USEFULNESS\"] == \"USEFUL\""
      ]
    },
    {
      "cell_type": "markdown",
      "metadata": {
        "id": "I31m9Ei_vIJP"
      },
      "source": [
        "Соответственно, строка кода в ячейке выше отбирает те строки из `wiki`, где выражение в квадратных скобках вернуло `True`. "
      ]
    },
    {
      "cell_type": "markdown",
      "metadata": {
        "id": "w2BTvy0avIJP"
      },
      "source": [
        "Все готово для проверки гипотезы. Проверяем гипотезу о равенстве среднего возраста тех сотрудников, которые считают Википедию полезной для преподавания и тех, кто считает ее бесполезной:"
      ]
    },
    {
      "cell_type": "code",
      "execution_count": null,
      "metadata": {
        "id": "gt8YPllzvIJQ",
        "outputId": "f71fab53-ceac-4894-b437-0aa48bc2bf32"
      },
      "outputs": [
        {
          "data": {
            "text/plain": [
              "Ttest_indResult(statistic=-1.1245735952953264, pvalue=0.2612239945157787)"
            ]
          },
          "execution_count": 34,
          "metadata": {},
          "output_type": "execute_result"
        }
      ],
      "source": [
        "# в скобках – две выборки, \n",
        "# столбец AGE из одной группы и из другой\n",
        "\n",
        "st.ttest_ind(wiki_useful[\"AGE\"], wiki_useless[\"AGE\"])"
      ]
    },
    {
      "cell_type": "markdown",
      "metadata": {
        "id": "PZl__9NxvIJQ"
      },
      "source": [
        "Функция вернула нам два значения: значение t-статистики и p-value. Если мы примем уровень значимости равным 5% (или уровень доверия 95%), у нас не будет оснований отвергнуть нулевую гипотезу (p-value > 0.05). Данные не позволяют выявить различия в средних, можно считать средние значения возраста сотрудников, считающих Википедию полезной и бесполезной, равными."
      ]
    },
    {
      "cell_type": "markdown",
      "metadata": {
        "id": "yeSlaHGPvIJQ"
      },
      "source": [
        "По умолчанию `ttest_ind()` использует двустроннюю альтернативу. Если мы хотим выбрать левостороннюю (первое среднее меньше второго) или правосторонюю (первое среднее больше второго), понадобится аргумент `alternative`, равный `\"less\"` или `\"right\"`. Правда, этот аргумент доступен только с версии `stats` 1.7.0, поэтому, если код ниже не работает, можно просто поделить p-value из предыдущего результата на 2, пользуясь тем, что распределение симметрично."
      ]
    },
    {
      "cell_type": "code",
      "execution_count": null,
      "metadata": {
        "id": "gJdJIl-zvIJR"
      },
      "outputs": [],
      "source": [
        "st.ttest_ind(wiki_useful[\"AGE\"], wiki_useless[\"AGE\"], \n",
        "            alternative = \"left\")"
      ]
    },
    {
      "cell_type": "markdown",
      "metadata": {
        "id": "2LJ48Km5vIJR"
      },
      "source": [
        "### Коэффициенты корреляции"
      ]
    },
    {
      "cell_type": "markdown",
      "metadata": {
        "id": "kMhJOdChvIJR"
      },
      "source": [
        "Вычислим коэффициенты корреляции Пирсона и Спирмена.\n",
        "\n",
        "Воспользуемся методом `.corr()` от библиотеки `pandas`. \n",
        "Выберем столбцы с возрастом респондента и числом лет опыта работы:"
      ]
    },
    {
      "cell_type": "code",
      "execution_count": null,
      "metadata": {
        "id": "qSLS-v58vIJR",
        "outputId": "9a6781b3-3a50-4a89-d1a9-abd46a1873d4"
      },
      "outputs": [
        {
          "data": {
            "text/html": [
              "<div>\n",
              "<style scoped>\n",
              "    .dataframe tbody tr th:only-of-type {\n",
              "        vertical-align: middle;\n",
              "    }\n",
              "\n",
              "    .dataframe tbody tr th {\n",
              "        vertical-align: top;\n",
              "    }\n",
              "\n",
              "    .dataframe thead th {\n",
              "        text-align: right;\n",
              "    }\n",
              "</style>\n",
              "<table border=\"1\" class=\"dataframe\">\n",
              "  <thead>\n",
              "    <tr style=\"text-align: right;\">\n",
              "      <th></th>\n",
              "      <th>AGE</th>\n",
              "    </tr>\n",
              "  </thead>\n",
              "  <tbody>\n",
              "    <tr>\n",
              "      <td>AGE</td>\n",
              "      <td>1.0</td>\n",
              "    </tr>\n",
              "  </tbody>\n",
              "</table>\n",
              "</div>"
            ],
            "text/plain": [
              "     AGE\n",
              "AGE  1.0"
            ]
          },
          "execution_count": 37,
          "metadata": {},
          "output_type": "execute_result"
        }
      ],
      "source": [
        "wiki[[\"AGE\", \"YEARSEXP\"]].corr()"
      ]
    },
    {
      "cell_type": "markdown",
      "metadata": {
        "id": "D_UbPJszvIJS"
      },
      "source": [
        "Что-то пошло не так. Python показал нам только корреляцию `AGE` с `AGE`, коэффициент равный 1. Так произошло, потому что столбец `YEARSEXP` оказался текстовым, хотя по логике должен состоять из чисел. Посмотрим, что не так с `YEARSEXP`. Выведем уникальные значения:\n"
      ]
    },
    {
      "cell_type": "code",
      "execution_count": null,
      "metadata": {
        "id": "ruzdOa0avIJS",
        "outputId": "830ed6d3-3a84-4157-9959-cf77aeb64534"
      },
      "outputs": [
        {
          "data": {
            "text/plain": [
              "array(['13', '8', '11', '12', '14', '25', '15', '18', '20', '5', '10',\n",
              "       '9', '6', '?', '7', '36', '4', '2', '17', '23', '16', '3', '21',\n",
              "       '22', '1', '24', '27', '26', '19', '30', '28', '37', '43', '35',\n",
              "       '39', '0'], dtype=object)"
            ]
          },
          "execution_count": 38,
          "metadata": {},
          "output_type": "execute_result"
        }
      ],
      "source": [
        "wiki[\"YEARSEXP\"].unique() "
      ]
    },
    {
      "cell_type": "markdown",
      "metadata": {
        "id": "UqrwgCAPvIJS"
      },
      "source": [
        "Проблема в знаке вопроса – так в этих данных были закодированы пропущенные ответы. Выкинем строки с пропущенными ответами – выберем только те строки, где значение в столбце `YEARSEXP` не `?`:"
      ]
    },
    {
      "cell_type": "code",
      "execution_count": null,
      "metadata": {
        "id": "dp2aJhtbvIJS"
      },
      "outputs": [],
      "source": [
        "wiki = wiki[wiki[\"YEARSEXP\"] != \"?\"] "
      ]
    },
    {
      "cell_type": "markdown",
      "metadata": {
        "id": "pcjt3X4kvIJT"
      },
      "source": [
        "Проверим:"
      ]
    },
    {
      "cell_type": "code",
      "execution_count": null,
      "metadata": {
        "id": "uWa7crENvIJT",
        "outputId": "cd2cb80a-d3ed-4945-8705-45df0668a610"
      },
      "outputs": [
        {
          "data": {
            "text/plain": [
              "array(['13', '8', '11', '12', '14', '25', '15', '18', '20', '5', '10',\n",
              "       '9', '6', '7', '36', '4', '2', '17', '23', '16', '3', '21', '22',\n",
              "       '1', '24', '27', '26', '19', '30', '28', '37', '43', '35', '39',\n",
              "       '0'], dtype=object)"
            ]
          },
          "execution_count": 40,
          "metadata": {},
          "output_type": "execute_result"
        }
      ],
      "source": [
        "wiki[\"YEARSEXP\"].unique() "
      ]
    },
    {
      "cell_type": "markdown",
      "metadata": {
        "id": "B-Ua5BO6vIJT"
      },
      "source": [
        "Лишнее выкинулось, но проблема осталась. Значения по-прежнему текстовые. Воспользуемся методом `.astype()`, он умеет изменять тип сразу всех элементов массива или столбца:\n"
      ]
    },
    {
      "cell_type": "code",
      "execution_count": null,
      "metadata": {
        "id": "T8sJfgYwvIJT"
      },
      "outputs": [],
      "source": [
        "wiki[\"YEARSEXP\"] = wiki[\"YEARSEXP\"].astype(int) # переделываем в integer"
      ]
    },
    {
      "cell_type": "markdown",
      "metadata": {
        "id": "m5K6f_3DvIJU"
      },
      "source": [
        "Теперь метод `.corr()` работает как надо:"
      ]
    },
    {
      "cell_type": "code",
      "execution_count": null,
      "metadata": {
        "id": "zfEXjYk3vIJU",
        "outputId": "4a00f6f0-0f9a-444a-dc23-33e7d5766c7d"
      },
      "outputs": [
        {
          "data": {
            "text/html": [
              "<div>\n",
              "<style scoped>\n",
              "    .dataframe tbody tr th:only-of-type {\n",
              "        vertical-align: middle;\n",
              "    }\n",
              "\n",
              "    .dataframe tbody tr th {\n",
              "        vertical-align: top;\n",
              "    }\n",
              "\n",
              "    .dataframe thead th {\n",
              "        text-align: right;\n",
              "    }\n",
              "</style>\n",
              "<table border=\"1\" class=\"dataframe\">\n",
              "  <thead>\n",
              "    <tr style=\"text-align: right;\">\n",
              "      <th></th>\n",
              "      <th>AGE</th>\n",
              "      <th>YEARSEXP</th>\n",
              "    </tr>\n",
              "  </thead>\n",
              "  <tbody>\n",
              "    <tr>\n",
              "      <td>AGE</td>\n",
              "      <td>1.000000</td>\n",
              "      <td>0.559238</td>\n",
              "    </tr>\n",
              "    <tr>\n",
              "      <td>YEARSEXP</td>\n",
              "      <td>0.559238</td>\n",
              "      <td>1.000000</td>\n",
              "    </tr>\n",
              "  </tbody>\n",
              "</table>\n",
              "</div>"
            ],
            "text/plain": [
              "               AGE  YEARSEXP\n",
              "AGE       1.000000  0.559238\n",
              "YEARSEXP  0.559238  1.000000"
            ]
          },
          "execution_count": 42,
          "metadata": {},
          "output_type": "execute_result"
        }
      ],
      "source": [
        "wiki[[\"AGE\", \"YEARSEXP\"]].corr()"
      ]
    },
    {
      "cell_type": "markdown",
      "metadata": {
        "id": "X7YebQcSvIJU"
      },
      "source": [
        "Мы получили корреляционную матрицу, в ней сохранены коэффициенты для пары `AGE` и `YEARSEXP` и `YEARSEXP` и `AGE`. Коэффициенты одинаковы, нет разницы, смотрим ли мы на связь первого со вторым или второго с первым. Связь положительная (что ожидаемо для возраста и опыта работы), умеренная. "
      ]
    },
    {
      "cell_type": "markdown",
      "metadata": {
        "id": "yxBEyJbTvIJU"
      },
      "source": [
        "Если нас не интересует корреляционная матрица, а интересует только одно значение коэффициента Пирсона, можем воспользоваться функцией `pearsonr()` из модуля `stats`:"
      ]
    },
    {
      "cell_type": "code",
      "execution_count": null,
      "metadata": {
        "id": "075OGoEIvIJV",
        "outputId": "6b28c50a-4dad-4507-fa69-7f6e3d714fbd"
      },
      "outputs": [
        {
          "data": {
            "text/plain": [
              "(0.5592377622336536, 7.276531536556025e-49)"
            ]
          },
          "execution_count": 43,
          "metadata": {},
          "output_type": "execute_result"
        }
      ],
      "source": [
        "# в скобках оба столбца через запятую\n",
        "\n",
        "st.pearsonr(wiki[\"AGE\"], wiki[\"YEARSEXP\"])"
      ]
    },
    {
      "cell_type": "markdown",
      "metadata": {
        "id": "lfQTpBvivIJV"
      },
      "source": [
        "Эта функция возвращает кортеж из двух чисел: значение коэффициента Пирсона и p-value, полученное по итогам проверки значимости этого коэффициента. Здесь p-value практически 0, следовательно, гипотезу о равенстве нулю истинного коэффициента корреляции стоит отвергнуть (на любом разумном уровне значимости или уровне доверия), показатели связаны. "
      ]
    },
    {
      "cell_type": "markdown",
      "metadata": {
        "id": "r1lXNX0evIJW"
      },
      "source": [
        "Для коэффициента Спирмена все аналогично, только в `.corr()` добавляется  аргумент с указанием типа коэффициента:"
      ]
    },
    {
      "cell_type": "code",
      "execution_count": null,
      "metadata": {
        "id": "vm2eGwWVvIJW",
        "outputId": "bbd20e76-f324-4943-fb5e-1e4f6f9b2bca"
      },
      "outputs": [
        {
          "data": {
            "text/html": [
              "<div>\n",
              "<style scoped>\n",
              "    .dataframe tbody tr th:only-of-type {\n",
              "        vertical-align: middle;\n",
              "    }\n",
              "\n",
              "    .dataframe tbody tr th {\n",
              "        vertical-align: top;\n",
              "    }\n",
              "\n",
              "    .dataframe thead th {\n",
              "        text-align: right;\n",
              "    }\n",
              "</style>\n",
              "<table border=\"1\" class=\"dataframe\">\n",
              "  <thead>\n",
              "    <tr style=\"text-align: right;\">\n",
              "      <th></th>\n",
              "      <th>AGE</th>\n",
              "      <th>YEARSEXP</th>\n",
              "    </tr>\n",
              "  </thead>\n",
              "  <tbody>\n",
              "    <tr>\n",
              "      <td>AGE</td>\n",
              "      <td>1.000000</td>\n",
              "      <td>0.502484</td>\n",
              "    </tr>\n",
              "    <tr>\n",
              "      <td>YEARSEXP</td>\n",
              "      <td>0.502484</td>\n",
              "      <td>1.000000</td>\n",
              "    </tr>\n",
              "  </tbody>\n",
              "</table>\n",
              "</div>"
            ],
            "text/plain": [
              "               AGE  YEARSEXP\n",
              "AGE       1.000000  0.502484\n",
              "YEARSEXP  0.502484  1.000000"
            ]
          },
          "execution_count": 44,
          "metadata": {},
          "output_type": "execute_result"
        }
      ],
      "source": [
        "wiki[[\"AGE\", \"YEARSEXP\"]].corr(method = \"spearman\")"
      ]
    },
    {
      "cell_type": "markdown",
      "metadata": {
        "id": "-ayF_8AWvIJX"
      },
      "source": [
        "А в `stats` используется функция с соответствующим названием:"
      ]
    },
    {
      "cell_type": "code",
      "execution_count": null,
      "metadata": {
        "id": "NxqOJDT9vIJX",
        "outputId": "7ead2bf8-fdce-4791-b826-b65fdaef0eae"
      },
      "outputs": [
        {
          "data": {
            "text/plain": [
              "SpearmanrResult(correlation=0.5024836891059221, pvalue=2.629924812320569e-38)"
            ]
          },
          "execution_count": 45,
          "metadata": {},
          "output_type": "execute_result"
        }
      ],
      "source": [
        "st.spearmanr(wiki[\"AGE\"], wiki[\"YEARSEXP\"])"
      ]
    },
    {
      "cell_type": "markdown",
      "metadata": {
        "id": "8MmJZ9BJvIJX"
      },
      "source": [
        "Выводы те же, связь есть (или согласованность рангов, если точнее)."
      ]
    }
  ],
  "metadata": {
    "kernelspec": {
      "display_name": "Python 3",
      "language": "python",
      "name": "python3"
    },
    "language_info": {
      "codemirror_mode": {
        "name": "ipython",
        "version": 3
      },
      "file_extension": ".py",
      "mimetype": "text/x-python",
      "name": "python",
      "nbconvert_exporter": "python",
      "pygments_lexer": "ipython3",
      "version": "3.7.4"
    },
    "colab": {
      "provenance": []
    }
  },
  "nbformat": 4,
  "nbformat_minor": 0
}